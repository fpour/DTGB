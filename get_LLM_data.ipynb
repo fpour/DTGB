{
 "cells": [
  {
   "cell_type": "code",
   "execution_count": 11,
   "metadata": {},
   "outputs": [],
   "source": [
    "import pickle\n",
    "import random\n",
    "import pandas as pd\n",
    "from tqdm import tqdm\n",
    "dataset_name = 'askubuntu_stackexchange'\n",
    "\n",
    "s_2_rot, o_2_rst, so_2_rt = {}, {}, {}\n",
    "all_samples = []\n",
    "edge_list = pd.read_csv(dataset_name + '/' + 'edge_list.csv')\n",
    "for inx, row in edge_list.iterrows():\n",
    "    s, r, o, t, l = row['u'], row['r'], row['i'], row['ts'], row['label']\n",
    "    s, r, o, t, l = int(s), int(r), int(o), int(t), int(l)\n",
    "    all_samples.append((s, r, o, l, t))\n",
    "    if s not in s_2_rot.keys():\n",
    "        s_2_rot[s] = []\n",
    "    s_2_rot[s].append([r,o,l,t])\n",
    "\n",
    "    if o not in o_2_rst.keys():\n",
    "        o_2_rst[o] = []\n",
    "    o_2_rst[o].append([r,s,l,t])\n",
    "\n",
    "    if (s,o) not in so_2_rt.keys():\n",
    "        so_2_rt[(s,o)] = []\n",
    "    so_2_rt[(s,o)].append([r,l,t])\n",
    "\n",
    "test_samples = all_samples\n"
   ]
  },
  {
   "cell_type": "code",
   "execution_count": 12,
   "metadata": {},
   "outputs": [
    {
     "name": "stdout",
     "output_type": "stream",
     "text": [
      "270898\n"
     ]
    }
   ],
   "source": [
    "pair_set = set()\n",
    "for key in so_2_rt.keys():\n",
    "    if len(so_2_rt[key]) >= 2:\n",
    "        pair_set.add(key)\n",
    "print(len(pair_set))"
   ]
  },
  {
   "cell_type": "code",
   "execution_count": 13,
   "metadata": {},
   "outputs": [
    {
     "name": "stdout",
     "output_type": "stream",
     "text": [
      "1497006\n",
      "1000\n",
      "(9628, 1388282, 289868, 0, 4485)\n",
      "[[[9628, 1387762, 289868, 0, 4482], [9628, 1387765, 289868, 0, 4482], [9628, 1386866, 441302, 0, 4479], [9628, 1385658, 670732, 0, 4475], [9628, 1384714, 224330, 0, 4472], [9628, 1384716, 392189, 0, 4472], [9628, 1384716, 559763, 0, 4472], [9628, 1384576, 197942, 0, 4471], [9628, 1343463, 363475, 0, 4292], [9628, 1326556, 255028, 1, 4223], [9628, 1326558, 549285, 0, 4223], [9628, 1297948, 486322, 0, 4111], [9628, 1126340, 259309, 0, 3568], [9628, 1126370, 467975, 0, 3568], [9628, 1126371, 467975, 0, 3568], [9628, 1126396, 467975, 0, 3568], [9628, 1125851, 259309, 0, 3567], [9628, 1104351, 570278, 0, 3503], [9628, 1089296, 672456, 0, 3448], [9628, 1075842, 287093, 1, 3404], [9628, 1071909, 319306, 0, 3391], [9628, 1071910, 319306, 0, 3391], [9628, 1071911, 319306, 0, 3391], [9628, 1061531, 384215, 0, 3351], [9628, 958180, 216405, 0, 3006], [9628, 958182, 465761, 0, 3006], [9628, 958185, 343627, 0, 3006], [9628, 806807, 564778, 0, 2578], [9628, 751761, 579693, 0, 2433], [9628, 616217, 666631, 1, 2124], [9628, 593050, 527828, 0, 2062], [9628, 593068, 527828, 0, 2062]], [[107, 1387756, 289868, 0, 4482], [9628, 1387762, 289868, 0, 4482], [9628, 1387765, 289868, 0, 4482], [1678, 1387494, 289868, 0, 4481]], [[9628, 1387762, 289868, 0, 4482], [9628, 1387765, 289868, 0, 4482]]]\n"
     ]
    }
   ],
   "source": [
    "test_set_num = 1000\n",
    "\n",
    "test_set = {} # (s,r,o,t,l) : sorted_shis[], sorted_ohis[], sorted_pairhis[]\n",
    "\n",
    "print(len(test_samples))\n",
    "random.shuffle(test_samples)\n",
    "\n",
    "for sample in test_samples:\n",
    "    s, r, o, l, t = sample\n",
    "    if (s,o) in pair_set:\n",
    "        pair_his = []\n",
    "        for pair_his_sample in so_2_rt[(s,o)]:\n",
    "            his_r, his_l, his_t = pair_his_sample\n",
    "            if his_t < t:\n",
    "                pair_his.append([s, his_r, o, his_l, his_t])\n",
    "        if len(pair_his) == 0:\n",
    "            continue\n",
    "        else:\n",
    "            pair_his = sorted(pair_his, key=lambda k: k[-1], reverse=True)\n",
    "    else:\n",
    "        continue\n",
    "        \n",
    "    s_his = []\n",
    "    for s_his_sample in s_2_rot[s]:\n",
    "        his_r, his_o, his_l, his_t = s_his_sample\n",
    "        if his_t < t:\n",
    "            s_his.append([s, his_r, his_o, his_l, his_t])\n",
    "    if len(s_his) == 0:\n",
    "        continue\n",
    "    else:\n",
    "        s_his = sorted(s_his, key=lambda k: k[-1], reverse=True)\n",
    "\n",
    "    o_his = []\n",
    "    for o_his_sample in o_2_rst[o]:\n",
    "        his_r, his_s, his_l, his_t = o_his_sample\n",
    "        if his_t < t:\n",
    "            o_his.append([his_s, his_r, o, his_l, his_t])\n",
    "    if len(o_his) == 0:\n",
    "        continue\n",
    "    else:\n",
    "        o_his = sorted(o_his, key=lambda k: k[-1], reverse=True)\n",
    "    \n",
    "    test_set[(s, r, o, l, t)] = [s_his, o_his, pair_his]\n",
    "    if len(test_set) == test_set_num:\n",
    "        break\n",
    "\n",
    "ind = 0\n",
    "print(len(test_set))\n",
    "print(list(test_set.keys())[ind])\n",
    "print(test_set[list(test_set.keys())[ind]])\n",
    "pickle.dump(test_set, open(dataset_name + '/' + 'LLM_test.pkl', 'wb'))"
   ]
  },
  {
   "cell_type": "code",
   "execution_count": 14,
   "metadata": {},
   "outputs": [
    {
     "name": "stdout",
     "output_type": "stream",
     "text": [
      "1497006\n",
      "10000\n",
      "(44227, 239969, 299478, 0, 1124)\n",
      "[[[44227, 239777, 299478, 0, 1123], [44227, 239637, 299478, 0, 1122], [44227, 239638, 265517, 0, 1122], [44227, 239643, 265517, 0, 1122], [44227, 239648, 299478, 0, 1122], [44227, 166085, 378635, 0, 877], [44227, 166008, 378635, 0, 876], [44227, 130743, 316075, 0, 752], [44227, 130745, 316075, 0, 752], [44227, 130747, 316075, 0, 752], [44227, 130749, 316075, 0, 752], [44227, 130750, 316075, 0, 752], [44227, 130753, 316075, 0, 752], [44227, 130754, 316075, 0, 752], [44227, 130757, 316075, 0, 752], [44227, 130760, 316075, 0, 752], [44227, 130762, 316075, 0, 752]], [[293, 239693, 299478, 0, 1123], [44227, 239777, 299478, 0, 1123], [293, 239778, 299478, 0, 1123], [44227, 239637, 299478, 0, 1122], [44227, 239648, 299478, 0, 1122]], [[44227, 239777, 299478, 0, 1123], [44227, 239637, 299478, 0, 1122], [44227, 239648, 299478, 0, 1122]]]\n"
     ]
    }
   ],
   "source": [
    "train_set_num = 10000\n",
    "train_set = {}\n",
    "\n",
    "print(len(test_samples))\n",
    "random.shuffle(test_samples)\n",
    "\n",
    "for step in [0,1]:\n",
    "    for sample in test_samples:\n",
    "        if sample in test_set.keys() or sample in train_set.keys():\n",
    "            continue\n",
    "        s, r, o, l, t = sample\n",
    "        if (s,o) in pair_set:\n",
    "            pair_his = []\n",
    "            for pair_his_sample in so_2_rt[(s,o)]:\n",
    "                his_r, his_l, his_t = pair_his_sample\n",
    "                if his_t < t:\n",
    "                    pair_his.append([s, his_r, o, his_l, his_t])\n",
    "            if len(pair_his) == 0:\n",
    "                if step == 0:\n",
    "                    continue\n",
    "                else:\n",
    "                    pair_his = []\n",
    "            else:\n",
    "                pair_his = sorted(pair_his, key=lambda k: k[-1], reverse=True)\n",
    "        else:\n",
    "            if step == 0:\n",
    "                continue\n",
    "            else:\n",
    "                pair_his = []\n",
    "            \n",
    "        s_his = []\n",
    "        for s_his_sample in s_2_rot[s]:\n",
    "            his_r, his_o, his_l, his_t = s_his_sample\n",
    "            if his_t < t:\n",
    "                s_his.append([s, his_r, his_o, his_l, his_t])\n",
    "        if len(s_his) == 0:\n",
    "            continue\n",
    "        else:\n",
    "            s_his = sorted(s_his, key=lambda k: k[-1], reverse=True)\n",
    "\n",
    "        o_his = []\n",
    "        for o_his_sample in o_2_rst[o]:\n",
    "            his_r, his_s, his_l, his_t = o_his_sample\n",
    "            if his_t < t:\n",
    "                o_his.append([his_s, his_r, o, his_l, his_t])\n",
    "        if len(o_his) == 0:\n",
    "            continue\n",
    "        else:\n",
    "            o_his = sorted(o_his, key=lambda k: k[-1], reverse=True)\n",
    "        \n",
    "        train_set[(s, r, o, l, t)] = [s_his, o_his, pair_his]\n",
    "        if len(train_set) >= train_set_num:\n",
    "            break\n",
    "    if len(train_set) >= train_set_num:\n",
    "            break\n",
    "\n",
    "ind = 1\n",
    "print(len(train_set))\n",
    "print(list(train_set.keys())[ind])\n",
    "print(train_set[list(train_set.keys())[ind]])\n",
    "pickle.dump(train_set, open(dataset_name + '/' + 'LLM_train.pkl', 'wb'))"
   ]
  },
  {
   "cell_type": "code",
   "execution_count": null,
   "metadata": {},
   "outputs": [],
   "source": []
  }
 ],
 "metadata": {
  "kernelspec": {
   "display_name": "Python 3",
   "language": "python",
   "name": "python3"
  },
  "language_info": {
   "codemirror_mode": {
    "name": "ipython",
    "version": 3
   },
   "file_extension": ".py",
   "mimetype": "text/x-python",
   "name": "python",
   "nbconvert_exporter": "python",
   "pygments_lexer": "ipython3",
   "version": "3.9.6"
  }
 },
 "nbformat": 4,
 "nbformat_minor": 2
}
